{
 "cells": [
  {
   "cell_type": "code",
   "execution_count": 353,
   "metadata": {
    "collapsed": false,
    "deletable": true,
    "editable": true
   },
   "outputs": [],
   "source": [
    "# We'll start with basic image parsing. This notebook contains some\n",
    "# basic exercises with .jpg data after parsing it\n",
    "\n",
    "# Importing image tools for reading .jpg.\n",
    "# We'll need the Pillow branch (active) of the Python Image Library\n",
    "# (PIL) here. We'll use numpy for array work.\n",
    "from PIL import Image, ImageFilter\n",
    "import numpy\n",
    "\n",
    "#Read and display image in-notebook\n",
    "im = Image.open( 'TestImages/kitty.jpg' ).rotate(-90)\n",
    "#im"
   ]
  },
  {
   "cell_type": "code",
   "execution_count": 354,
   "metadata": {
    "collapsed": false,
    "deletable": true,
    "editable": true
   },
   "outputs": [],
   "source": [
    "# Next, let's simply try and save the im (image) data to a new file.\n",
    "im.save('TestImages/kittyReproduction.jpg')"
   ]
  },
  {
   "cell_type": "code",
   "execution_count": 355,
   "metadata": {
    "collapsed": true,
    "deletable": true,
    "editable": true
   },
   "outputs": [],
   "source": [
    "# separating the data into bands\n",
    "r,g,b = im.split()"
   ]
  },
  {
   "cell_type": "code",
   "execution_count": 356,
   "metadata": {
    "collapsed": false,
    "deletable": true,
    "editable": true
   },
   "outputs": [],
   "source": [
    "# visualizing all blue-band data, for example\n",
    "#b"
   ]
  },
  {
   "cell_type": "code",
   "execution_count": 357,
   "metadata": {
    "collapsed": false,
    "deletable": true,
    "editable": true
   },
   "outputs": [],
   "source": [
    "# converting image data to numpy array (this will be useful in analysis\n",
    "# to follow in subsequent notebooks)\n",
    "pix = numpy.array(im);"
   ]
  },
  {
   "cell_type": "code",
   "execution_count": 358,
   "metadata": {
    "collapsed": false,
    "deletable": true,
    "editable": true
   },
   "outputs": [
    {
     "data": {
      "text/plain": [
       "(3024, 4032, 3)"
      ]
     },
     "execution_count": 358,
     "metadata": {},
     "output_type": "execute_result"
    }
   ],
   "source": [
    "# analyzing dimensions of \"arrayed\" image ()\n",
    "pix.shape"
   ]
  },
  {
   "cell_type": "code",
   "execution_count": 359,
   "metadata": {
    "collapsed": false,
    "deletable": true,
    "editable": true
   },
   "outputs": [
    {
     "name": "stdout",
     "output_type": "stream",
     "text": [
      "Wall time: 1 ms\n"
     ]
    }
   ],
   "source": [
    "%%time\n",
    "\n",
    "# defining bounds for trial image subset (and timing operation with cell magic)\n",
    "RL = 500\n",
    "RU = 1500\n",
    "CL = 2250\n",
    "CU = 3250\n",
    "pixSubset = pix[RL:RU,CL:CU,0:3]"
   ]
  },
  {
   "cell_type": "code",
   "execution_count": 360,
   "metadata": {
    "collapsed": false,
    "deletable": true,
    "editable": true
   },
   "outputs": [],
   "source": [
    "# printing trial image subset: it's Chocko's cute face!\n",
    "imSubset = Image.fromarray(pixSubset,'RGB')\n",
    "#imSubset"
   ]
  },
  {
   "cell_type": "code",
   "execution_count": 361,
   "metadata": {
    "collapsed": true,
    "deletable": true,
    "editable": true
   },
   "outputs": [],
   "source": [
    "# TODO: in the next notebook, we'll work on fragmenting the image\n",
    "#       into multiple tiles in a mosaic and then scrambling it and\n",
    "#       visualizing the result."
   ]
  },
  {
   "cell_type": "code",
   "execution_count": null,
   "metadata": {
    "collapsed": true
   },
   "outputs": [],
   "source": []
  }
 ],
 "metadata": {
  "kernelspec": {
   "display_name": "Python 3",
   "language": "python",
   "name": "python3"
  },
  "language_info": {
   "codemirror_mode": {
    "name": "ipython",
    "version": 3
   },
   "file_extension": ".py",
   "mimetype": "text/x-python",
   "name": "python",
   "nbconvert_exporter": "python",
   "pygments_lexer": "ipython3",
   "version": "3.5.2"
  }
 },
 "nbformat": 4,
 "nbformat_minor": 2
}

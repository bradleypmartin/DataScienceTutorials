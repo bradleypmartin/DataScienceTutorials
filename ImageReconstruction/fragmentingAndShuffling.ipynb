{
 "cells": [
  {
   "cell_type": "code",
   "execution_count": 16,
   "metadata": {
    "collapsed": false,
    "deletable": true,
    "editable": true
   },
   "outputs": [],
   "source": [
    "# We've gotten around parsing and cropping the image. Now we want to set\n",
    "# up for the mock image reconstruction task by fragmenting the image\n",
    "# into a mosaic which we'll shuffle.\n",
    "\n",
    "# Importing tools\n",
    "from PIL import Image, ImageFilter\n",
    "import numpy as np\n",
    "from numpy import random\n",
    "import math\n",
    "\n",
    "#Read and display image in-notebook\n",
    "im = Image.open( 'TestImages/kitty.jpg' ).rotate(-90)\n",
    "#im"
   ]
  },
  {
   "cell_type": "code",
   "execution_count": 2,
   "metadata": {
    "collapsed": false,
    "deletable": true,
    "editable": true
   },
   "outputs": [],
   "source": [
    "# converting image data to numpy array\n",
    "pix = np.array(im);"
   ]
  },
  {
   "cell_type": "code",
   "execution_count": 3,
   "metadata": {
    "collapsed": false,
    "deletable": true,
    "editable": true
   },
   "outputs": [
    {
     "data": {
      "text/plain": [
       "(3024, 4032, 3)"
      ]
     },
     "execution_count": 3,
     "metadata": {},
     "output_type": "execute_result"
    }
   ],
   "source": [
    "# analyzing dimensions of \"arrayed\" image ()\n",
    "pix.shape"
   ]
  },
  {
   "cell_type": "code",
   "execution_count": 4,
   "metadata": {
    "collapsed": false,
    "deletable": true,
    "editable": true
   },
   "outputs": [
    {
     "name": "stdout",
     "output_type": "stream",
     "text": [
      "Wall time: 501 µs\n"
     ]
    }
   ],
   "source": [
    "%%time\n",
    "# timing subset execution with cell magic\n",
    "\n",
    "# We've noticed that the rotated image has a padded black border,\n",
    "# which we want to remove for reconstruction (artificial original\n",
    "# border = ability to 'cheat' the reconstruction algo!)\n",
    "RL = 0\n",
    "RU = 3024\n",
    "CL = 550\n",
    "CU = 3500\n",
    "pixCropped = pix[RL:RU,CL:CU,0:3]"
   ]
  },
  {
   "cell_type": "code",
   "execution_count": 5,
   "metadata": {
    "collapsed": false,
    "deletable": true,
    "editable": true
   },
   "outputs": [],
   "source": [
    "# printing cropped image\n",
    "imCropped = Image.fromarray(pixCropped,'RGB')\n",
    "#imCropped"
   ]
  },
  {
   "cell_type": "code",
   "execution_count": 6,
   "metadata": {
    "collapsed": false,
    "deletable": true,
    "editable": true
   },
   "outputs": [
    {
     "data": {
      "text/plain": [
       "(3024, 2950, 3)"
      ]
     },
     "execution_count": 6,
     "metadata": {},
     "output_type": "execute_result"
    }
   ],
   "source": [
    "# analyzing size of cropped image\n",
    "pixCropped.shape"
   ]
  },
  {
   "cell_type": "code",
   "execution_count": 99,
   "metadata": {
    "collapsed": false,
    "deletable": true,
    "editable": true
   },
   "outputs": [],
   "source": [
    "# Now we want to let the user/test administrator pick a number of\n",
    "# row partitions and column partitions for fragging the image.\n",
    "\n",
    "# test administrator-defined partitions\n",
    "rowPartitions = 5\n",
    "colPartitions = 3\n",
    "\n",
    "# storing values for # total rows, cols (pixels)\n",
    "pixelRows = pixCropped.shape[0];\n",
    "pixelCols = pixCropped.shape[1];\n",
    "\n",
    "# approximate row, column length of partitions\n",
    "rowInterval = math.ceil(pixelRows/rowPartitions);\n",
    "colInterval = math.ceil(pixelCols/colPartitions);\n",
    "\n",
    "# preparing and printing a preliminary impression of partitioning\n",
    "pixPartitioned1 = np.copy(pixCropped)\n",
    "\n",
    "# row partitions\n",
    "for i in range(1,rowPartitions):\n",
    "    rowBegin = i*rowInterval-4\n",
    "    rowEnd   = i*rowInterval+5\n",
    "    pixPartitioned1[rowBegin:rowEnd,:,:] = 255\n",
    "        \n",
    "# column partitions\n",
    "for j in range(1,colPartitions):\n",
    "    colBegin = j*colInterval-4\n",
    "    colEnd   = j*colInterval+5\n",
    "    pixPartitioned1[:,colBegin:colEnd,:] = 255\n",
    "\n",
    "# printing out a concept illustration of the fragmentation\n",
    "imPartitioned1 = Image.fromarray(pixPartitioned1)\n",
    "#imPartitioned1"
   ]
  },
  {
   "cell_type": "code",
   "execution_count": 100,
   "metadata": {
    "collapsed": false,
    "deletable": true,
    "editable": true
   },
   "outputs": [],
   "source": [
    "# Now, for purposes of a 'fair' starting point for the reconstruction\n",
    "# algo, we'll want to make sure the size of each of these fragments is\n",
    "# either uniform or randomized in such a way that their size doesn't give\n",
    "# the algo any clue as to where they came from.\n",
    "\n",
    "# For instance, if our rows and cols aren't evenly divisible by the #\n",
    "# of partitions specified, the algo will have a clue as to which frags\n",
    "# correspond to a bottom or right edge or a lower-right corner.\n",
    "\n",
    "# Also, for purposes of setting up a more challenging problem, we'll set\n",
    "# an amount of overlap (with surrounding fragments) for every frag, and\n",
    "# also an offset that is NOT uniform among the fragments. We'll displace\n",
    "# the fragment by this amount.\n",
    "\n",
    "# Important: so this doesn't get TOO crazy, we'll make sure the possible\n",
    "# offsets fit within the overlap buffer (e.g. if we are allowed to\n",
    "# displace a fragment by 5 pixels in either the x- or y-direction, we'd\n",
    "# better make sure our overlap buffer is 11 or more, or else adjacent\n",
    "# frags may not have any overlap (which we'll rely on for our simple\n",
    "# reconstruction algorithm))"
   ]
  },
  {
   "cell_type": "code",
   "execution_count": 101,
   "metadata": {
    "collapsed": false,
    "deletable": true,
    "editable": true
   },
   "outputs": [
    {
     "name": "stdout",
     "output_type": "stream",
     "text": [
      "[ 7  4  9  5  6  0 14 11  2  8 13 10 12  3  1]\n"
     ]
    }
   ],
   "source": [
    "# determining number of total image fragments\n",
    "numFragments = rowPartitions*colPartitions\n",
    "\n",
    "# Suppose our fragments in the 3,2 partition example are indexed like:\n",
    "# 0 1\n",
    "# 2 3\n",
    "# 4 5\n",
    "\n",
    "# or, flattened:\n",
    "# 0 1 2 3 4 5\n",
    "\n",
    "# we can shuffle these flattened indices with a random permutation:\n",
    "shufFragIndices = np.random.permutation(numFragments)\n",
    "print(shufFragIndices)"
   ]
  },
  {
   "cell_type": "code",
   "execution_count": 102,
   "metadata": {
    "collapsed": false,
    "deletable": true,
    "editable": true
   },
   "outputs": [],
   "source": [
    "# now we'll define our overlap and offsets.\n",
    "offsetMax = 2\n",
    "\n",
    "overlapPix = 10\n",
    "\n",
    "# ensuring overlap algo will work (sufficient overlap for offsets)\n",
    "overlapPix = max(overlapPix,3*offsetMax)\n",
    "\n",
    "# using these parameters, we'll define an array of x,y pixel\n",
    "# offsets for each image fragment\n",
    "xyOffsets = np.random.randint(offsetMax+1,size=(numFragments,2))"
   ]
  },
  {
   "cell_type": "code",
   "execution_count": 112,
   "metadata": {
    "collapsed": false,
    "deletable": true,
    "editable": true
   },
   "outputs": [],
   "source": [
    "# now we'll define our overlap and offsets.\n",
    "offsetMax = 2\n",
    "\n",
    "overlapPix = 10\n",
    "\n",
    "# ensuring overlap algo will work (sufficient overlap for offsets)\n",
    "overlapPix = max(overlapPix,3*offsetMax)\n",
    "\n",
    "# using these parameters, we'll define an array of x,y pixel\n",
    "# offsets for each image fragment\n",
    "xyOffsets = np.random.randint(2*offsetMax+1,size=(numFragments,2))-offsetMax"
   ]
  },
  {
   "cell_type": "code",
   "execution_count": 104,
   "metadata": {
    "collapsed": false,
    "deletable": true,
    "editable": true
   },
   "outputs": [],
   "source": [
    "# We'll initialize and fill a 4-D (!) array to handle all the frags in the shuffled\n",
    "# order given by shufFragIndices.\n",
    "pixFrags = np.zeros((numFragments,rowInterval + 2*overlapPix,colInterval + 2*overlapPix,3),dtype='uint8')\n",
    "\n",
    "for i in range(0,numFragments):\n",
    "    # block indices for starting fragmentation\n",
    "    blockRowInd = shufFragIndices[i] // colPartitions\n",
    "    blockColInd = shufFragIndices[i] % colPartitions\n",
    "    \n",
    "    # defining part of original image given over to fragment 'i'\n",
    "    # (including overlap and x/y offset)\n",
    "    startRow = blockRowInd*rowInterval - overlapPix + xyOffsets[i,0]\n",
    "    endRow = startRow + rowInterval + 2*overlapPix\n",
    "    startCol = blockColInd*colInterval - overlapPix + xyOffsets[i,1]\n",
    "    endCol = startCol + colInterval + 2*overlapPix\n",
    "    \n",
    "    # culling interval back in the case of original image overflow/underflow\n",
    "    if startRow < 0:\n",
    "        startRow = abs(xyOffsets[i,0])\n",
    "        endRow = rowInterval + 2*overlapPix + abs(xyOffsets[i,0])\n",
    "    elif endRow > pixCropped.shape[0]:\n",
    "        startRow = pixCropped.shape[0] - rowInterval - 2*overlapPix - abs(xyOffsets[i,0])\n",
    "        endRow = pixCropped.shape[0] - abs(xyOffsets[i,0])\n",
    "        \n",
    "    if startCol < 0:\n",
    "        startCol = abs(xyOffsets[i,1])\n",
    "        endCol = colInterval + 2*overlapPix + abs(xyOffsets[i,1])\n",
    "    elif endCol > pixCropped.shape[1]:\n",
    "        startCol = pixCropped.shape[1] - colInterval - 2*overlapPix - abs(xyOffsets[i,1])\n",
    "        endCol = pixCropped.shape[1] - abs(xyOffsets[i,1])\n",
    "    \n",
    "    # now we fill in pixFrags (preallocated shape) with shuffled and offset data from\n",
    "    # pixCropped.\n",
    "    pixFrags[i,:,:,:] = pixCropped[startRow:endRow,startCol:endCol,:]"
   ]
  },
  {
   "cell_type": "code",
   "execution_count": 105,
   "metadata": {
    "collapsed": false,
    "deletable": true,
    "editable": true
   },
   "outputs": [],
   "source": [
    "# We can now assemble a shuffled view of the original photo!\n",
    "pixShuffled = np.zeros((rowInterval*rowPartitions,colInterval*colPartitions,3),dtype = 'uint8')\n",
    "\n",
    "for i in range(0,numFragments):\n",
    "    blockRowInd = i // colPartitions\n",
    "    blockColInd = i % colPartitions\n",
    "    \n",
    "    startRow = rowInterval*blockRowInd\n",
    "    endRow = startRow + rowInterval\n",
    "    \n",
    "    startCol = colInterval*blockColInd\n",
    "    endCol = startCol + colInterval\n",
    "     \n",
    "    fragRS = overlapPix\n",
    "    fragRE = rowInterval + overlapPix\n",
    "    \n",
    "    fragCS = overlapPix\n",
    "    fragCE = colInterval + overlapPix\n",
    "    \n",
    "    pixShuffled[startRow:endRow,startCol:endCol,:] = pixFrags[i,fragRS:fragRE,fragCS:fragCE,:]"
   ]
  },
  {
   "cell_type": "code",
   "execution_count": 108,
   "metadata": {
    "collapsed": false,
    "deletable": true,
    "editable": true
   },
   "outputs": [],
   "source": [
    "# printing out a concept illustration of the shuffled image\n",
    "imShuffled1 = Image.fromarray(pixShuffled)\n",
    "#imShuffled1"
   ]
  },
  {
   "cell_type": "code",
   "execution_count": 107,
   "metadata": {
    "collapsed": false,
    "deletable": true,
    "editable": true
   },
   "outputs": [],
   "source": [
    "# shuffled image looks good! time to move on to an elementary reconstruction algo."
   ]
  },
  {
   "cell_type": "code",
   "execution_count": null,
   "metadata": {
    "collapsed": true,
    "deletable": true,
    "editable": true
   },
   "outputs": [],
   "source": []
  }
 ],
 "metadata": {
  "kernelspec": {
   "display_name": "Python 3",
   "language": "python",
   "name": "python3"
  },
  "language_info": {
   "codemirror_mode": {
    "name": "ipython",
    "version": 3
   },
   "file_extension": ".py",
   "mimetype": "text/x-python",
   "name": "python",
   "nbconvert_exporter": "python",
   "pygments_lexer": "ipython3",
   "version": "3.5.2"
  }
 },
 "nbformat": 4,
 "nbformat_minor": 2
}
